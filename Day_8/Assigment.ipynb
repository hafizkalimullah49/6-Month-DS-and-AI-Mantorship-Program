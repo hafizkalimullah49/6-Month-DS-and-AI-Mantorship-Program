{
 "cells": [
  {
   "cell_type": "markdown",
   "metadata": {},
   "source": [
    "####   18374.000000\t how i check this value in data set through code  ...?"
   ]
  },
  {
   "cell_type": "code",
   "execution_count": 2,
   "metadata": {},
   "outputs": [
    {
     "name": "stdout",
     "output_type": "stream",
     "text": [
      "(array([10], dtype=int64),)\n"
     ]
    }
   ],
   "source": [
    "import pandas as pd\n",
    "import numpy as np\n",
    "\n",
    "# Assuming `df` is your DataFrame containing the dataset\n",
    "df = pd.read_csv('sub-division_population_of_pakistan.csv')\n",
    "\n",
    "# Convert boolean index to integer index\n",
    "bool_index = df['AREA (sq.km)'].isin([18374.000000]).astype(bool)\n",
    "\n",
    "# Get indices of True values\n",
    "indices = np.where(bool_index)\n",
    "\n",
    "# Print the indices\n",
    "print(indices)\n"
   ]
  },
  {
   "cell_type": "code",
   "execution_count": null,
   "metadata": {},
   "outputs": [],
   "source": []
  }
 ],
 "metadata": {
  "kernelspec": {
   "display_name": "Python 3",
   "language": "python",
   "name": "python3"
  },
  "language_info": {
   "codemirror_mode": {
    "name": "ipython",
    "version": 3
   },
   "file_extension": ".py",
   "mimetype": "text/x-python",
   "name": "python",
   "nbconvert_exporter": "python",
   "pygments_lexer": "ipython3",
   "version": "3.12.2"
  }
 },
 "nbformat": 4,
 "nbformat_minor": 2
}
