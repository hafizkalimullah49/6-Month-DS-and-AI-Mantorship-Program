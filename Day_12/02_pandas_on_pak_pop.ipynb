{
 "cells": [
  {
   "cell_type": "markdown",
   "metadata": {},
   "source": [
    " \n",
    "##  Pakistani Population Analysis"
   ]
  },
  {
   "cell_type": "markdown",
   "metadata": {},
   "source": [
    "Author Name: Hafiz Kalim Ullah\\\n",
    "Email: hafizkalimullah49@gmail.com\\\n",
    "Date: 15-03-2023"
   ]
  },
  {
   "cell_type": "markdown",
   "metadata": {},
   "source": [
    "The Data was collected from th following [link](https://www.kaggle.com/datasets/mabdullahsajid/population-of-pakistan-dataset )"
   ]
  },
  {
   "cell_type": "markdown",
   "metadata": {},
   "source": [
    "**About Dataset**\n",
    "\n",
    "**Description**\n",
    "This dataset contains demographic information from the Pakistan Population Census conducted in 2017. It provides detailed population data at various administrative levels within Pakistan, including provinces, divisions, districts, and sub-divisions. The dataset also includes information on urban and rural populations, gender distribution, transgender individuals, sex ratios, population figures from the 1998 census, and annual growth rates.\n",
    "\n",
    "**Featurers:**\n",
    "Province: The administrative provinces or regions of Pakistan where the census data was collected.\n",
    "\n",
    "Division: The divisions within each province. Divisions are the second level of administrative divisions in Pakistan.\n",
    "\n",
    "District: Districts within each division, representing larger administrative units.\n",
    "\n",
    "Sub-Division: Sub-divisions or tehsils within each district, providing more localized data.\n",
    "\n",
    "Area: The land area (in square kilometers) of each sub-division.\n",
    "\n",
    "Urban Population 2017: The population of urban areas within each sub-division for the year 2017.\n",
    "\n",
    "Rural Population 2017: The population of rural areas within each sub-division for the year 2017.\n",
    "\n",
    "Male Population 2017: The male population within each sub-division for the year 2017.\n",
    "\n",
    "Female Population 2017: The female population within each sub-division for the year 2017.\n",
    "\n",
    "Transgender Population 2017: The population of transgender individuals within each sub-division for the year 2017.\n",
    "\n",
    "Sex Ratio 2017: The sex ratio, calculated as the number of females per 1000 males, within each sub-division for the year 2017.\n",
    "\n",
    "Population in 1998: The total population of each sub-division as recorded in the 1998 census.\n",
    "\n",
    "Annual Growth Rate: The annual growth rate of the population in each sub-division, calculated as the percentage increase from 1998 to 2017.\n",
    "\n",
    "**Data Source**\n",
    "The data in this dataset was collected from official Pakistan Population Census reports and may include data from various government sources. It is essential to provide proper attribution and reference the original sources when using this dataset for analysis or research.\n",
    "\n",
    "**Data Usage**\n",
    "Researchers and analysts can use this dataset to explore demographic trends, population growth, urbanization rates, gender distribution, and more within Pakistan at different administrative levels. Ensure compliance with ethical and legal guidelines when using this data for research or public sharing.\n",
    "\n",
    "Please note that this description is a template, and you should adapt it based on the actual data sources and specific details of your dataset when creating it for Kaggle or any other platform."
   ]
  },
  {
   "cell_type": "markdown",
   "metadata": {},
   "source": [
    "## purpose of this Analysis\n",
    "\n",
    "we will find this at the end or during this.."
   ]
  },
  {
   "cell_type": "code",
   "execution_count": 1,
   "metadata": {},
   "outputs": [],
   "source": [
    "#import libraries\n",
    "import pandas as pd\n",
    "import numpy as np\n",
    "import matplotlib.pyplot as plt\n",
    "import seaborn as sns"
   ]
  },
  {
   "cell_type": "code",
   "execution_count": 2,
   "metadata": {},
   "outputs": [],
   "source": [
    "# import data set\n",
    "df = pd.read_csv('data.csv')"
   ]
  },
  {
   "cell_type": "markdown",
   "metadata": {},
   "source": [
    "## 1. Data Composition\n"
   ]
  },
  {
   "cell_type": "code",
   "execution_count": 3,
   "metadata": {},
   "outputs": [
    {
     "name": "stdout",
     "output_type": "stream",
     "text": [
      "<class 'pandas.core.frame.DataFrame'>\n",
      "RangeIndex: 528 entries, 0 to 527\n",
      "Data columns (total 21 columns):\n",
      " #   Column                      Non-Null Count  Dtype  \n",
      "---  ------                      --------------  -----  \n",
      " 0   PROVINCE                    528 non-null    object \n",
      " 1   DIVISION                    528 non-null    object \n",
      " 2   DISTRICT                    528 non-null    object \n",
      " 3   SUB DIVISION                528 non-null    object \n",
      " 4   AREA (sq.km)                528 non-null    float64\n",
      " 5   ALL SEXES (RURAL)           528 non-null    int64  \n",
      " 6   MALE (RURAL)                528 non-null    int64  \n",
      " 7   FEMALE (RURAL)              528 non-null    int64  \n",
      " 8   TRANSGENDER (RURAL)         528 non-null    int64  \n",
      " 9   SEX RATIO (RURAL)           528 non-null    float64\n",
      " 10  AVG HOUSEHOLD SIZE (RURAL)  528 non-null    float64\n",
      " 11  POPULATION 1998 (RURAL)     528 non-null    int64  \n",
      " 12  ANNUAL GROWTH RATE (RURAL)  528 non-null    float64\n",
      " 13  ALL SEXES (URBAN)           528 non-null    int64  \n",
      " 14  MALE (URBAN)                528 non-null    int64  \n",
      " 15  FEMALE (URBAN)              528 non-null    int64  \n",
      " 16  TRANSGENDER (URBAN)         528 non-null    int64  \n",
      " 17  SEX RATIO (URBAN)           528 non-null    float64\n",
      " 18  AVG HOUSEHOLD SIZE (URBAN)  528 non-null    float64\n",
      " 19  POPULATION 1998 (URBAN)     528 non-null    int64  \n",
      " 20  ANNUAL GROWTH RATE (URBAN)  528 non-null    float64\n",
      "dtypes: float64(7), int64(10), object(4)\n",
      "memory usage: 86.8+ KB\n"
     ]
    }
   ],
   "source": [
    "# Explor the data (composition of data)\n",
    "df.info()"
   ]
  },
  {
   "cell_type": "code",
   "execution_count": 4,
   "metadata": {},
   "outputs": [
    {
     "data": {
      "text/html": [
       "<div>\n",
       "<style scoped>\n",
       "    .dataframe tbody tr th:only-of-type {\n",
       "        vertical-align: middle;\n",
       "    }\n",
       "\n",
       "    .dataframe tbody tr th {\n",
       "        vertical-align: top;\n",
       "    }\n",
       "\n",
       "    .dataframe thead th {\n",
       "        text-align: right;\n",
       "    }\n",
       "</style>\n",
       "<table border=\"1\" class=\"dataframe\">\n",
       "  <thead>\n",
       "    <tr style=\"text-align: right;\">\n",
       "      <th></th>\n",
       "      <th>PROVINCE</th>\n",
       "      <th>DIVISION</th>\n",
       "      <th>DISTRICT</th>\n",
       "      <th>SUB DIVISION</th>\n",
       "      <th>AREA (sq.km)</th>\n",
       "      <th>ALL SEXES (RURAL)</th>\n",
       "      <th>MALE (RURAL)</th>\n",
       "      <th>FEMALE (RURAL)</th>\n",
       "      <th>TRANSGENDER (RURAL)</th>\n",
       "      <th>SEX RATIO (RURAL)</th>\n",
       "      <th>...</th>\n",
       "      <th>POPULATION 1998 (RURAL)</th>\n",
       "      <th>ANNUAL GROWTH RATE (RURAL)</th>\n",
       "      <th>ALL SEXES (URBAN)</th>\n",
       "      <th>MALE (URBAN)</th>\n",
       "      <th>FEMALE (URBAN)</th>\n",
       "      <th>TRANSGENDER (URBAN)</th>\n",
       "      <th>SEX RATIO (URBAN)</th>\n",
       "      <th>AVG HOUSEHOLD SIZE (URBAN)</th>\n",
       "      <th>POPULATION 1998 (URBAN)</th>\n",
       "      <th>ANNUAL GROWTH RATE (URBAN)</th>\n",
       "    </tr>\n",
       "  </thead>\n",
       "  <tbody>\n",
       "    <tr>\n",
       "      <th>0</th>\n",
       "      <td>PUNJAB</td>\n",
       "      <td>BAHAWALPUR DIVISION</td>\n",
       "      <td>BAHAWALNAGAR DISTRICT</td>\n",
       "      <td>BAHAWALNAGAR TEHSIL</td>\n",
       "      <td>1729.0</td>\n",
       "      <td>619550</td>\n",
       "      <td>316864</td>\n",
       "      <td>302644</td>\n",
       "      <td>42</td>\n",
       "      <td>104.70</td>\n",
       "      <td>...</td>\n",
       "      <td>407768</td>\n",
       "      <td>2.22</td>\n",
       "      <td>193840</td>\n",
       "      <td>98391</td>\n",
       "      <td>95402</td>\n",
       "      <td>47</td>\n",
       "      <td>103.13</td>\n",
       "      <td>6.02</td>\n",
       "      <td>133785</td>\n",
       "      <td>1.97</td>\n",
       "    </tr>\n",
       "    <tr>\n",
       "      <th>1</th>\n",
       "      <td>PUNJAB</td>\n",
       "      <td>BAHAWALPUR DIVISION</td>\n",
       "      <td>BAHAWALNAGAR DISTRICT</td>\n",
       "      <td>CHISHTIAN TEHSIL</td>\n",
       "      <td>1500.0</td>\n",
       "      <td>540342</td>\n",
       "      <td>273788</td>\n",
       "      <td>266500</td>\n",
       "      <td>54</td>\n",
       "      <td>102.73</td>\n",
       "      <td>...</td>\n",
       "      <td>395983</td>\n",
       "      <td>1.65</td>\n",
       "      <td>149424</td>\n",
       "      <td>75546</td>\n",
       "      <td>73851</td>\n",
       "      <td>27</td>\n",
       "      <td>102.30</td>\n",
       "      <td>6.01</td>\n",
       "      <td>102287</td>\n",
       "      <td>2.01</td>\n",
       "    </tr>\n",
       "    <tr>\n",
       "      <th>2</th>\n",
       "      <td>PUNJAB</td>\n",
       "      <td>BAHAWALPUR DIVISION</td>\n",
       "      <td>BAHAWALNAGAR DISTRICT</td>\n",
       "      <td>FORT ABBAS TEHSIL</td>\n",
       "      <td>2536.0</td>\n",
       "      <td>361240</td>\n",
       "      <td>182655</td>\n",
       "      <td>178541</td>\n",
       "      <td>44</td>\n",
       "      <td>102.30</td>\n",
       "      <td>...</td>\n",
       "      <td>250959</td>\n",
       "      <td>1.93</td>\n",
       "      <td>61528</td>\n",
       "      <td>31360</td>\n",
       "      <td>30150</td>\n",
       "      <td>18</td>\n",
       "      <td>104.01</td>\n",
       "      <td>6.00</td>\n",
       "      <td>34637</td>\n",
       "      <td>3.06</td>\n",
       "    </tr>\n",
       "    <tr>\n",
       "      <th>3</th>\n",
       "      <td>PUNJAB</td>\n",
       "      <td>BAHAWALPUR DIVISION</td>\n",
       "      <td>BAHAWALNAGAR DISTRICT</td>\n",
       "      <td>HAROONABAD TEHSIL</td>\n",
       "      <td>1295.0</td>\n",
       "      <td>382115</td>\n",
       "      <td>192278</td>\n",
       "      <td>189808</td>\n",
       "      <td>29</td>\n",
       "      <td>101.30</td>\n",
       "      <td>...</td>\n",
       "      <td>297343</td>\n",
       "      <td>1.33</td>\n",
       "      <td>142600</td>\n",
       "      <td>71345</td>\n",
       "      <td>71236</td>\n",
       "      <td>19</td>\n",
       "      <td>100.15</td>\n",
       "      <td>6.02</td>\n",
       "      <td>84424</td>\n",
       "      <td>2.79</td>\n",
       "    </tr>\n",
       "    <tr>\n",
       "      <th>4</th>\n",
       "      <td>PUNJAB</td>\n",
       "      <td>BAHAWALPUR DIVISION</td>\n",
       "      <td>BAHAWALNAGAR DISTRICT</td>\n",
       "      <td>MINCHINABAD TEHSIL</td>\n",
       "      <td>1818.0</td>\n",
       "      <td>452723</td>\n",
       "      <td>231506</td>\n",
       "      <td>221178</td>\n",
       "      <td>39</td>\n",
       "      <td>104.67</td>\n",
       "      <td>...</td>\n",
       "      <td>316593</td>\n",
       "      <td>1.90</td>\n",
       "      <td>72294</td>\n",
       "      <td>36694</td>\n",
       "      <td>35590</td>\n",
       "      <td>10</td>\n",
       "      <td>103.10</td>\n",
       "      <td>6.34</td>\n",
       "      <td>37668</td>\n",
       "      <td>3.48</td>\n",
       "    </tr>\n",
       "  </tbody>\n",
       "</table>\n",
       "<p>5 rows × 21 columns</p>\n",
       "</div>"
      ],
      "text/plain": [
       "  PROVINCE             DIVISION               DISTRICT         SUB DIVISION  \\\n",
       "0   PUNJAB  BAHAWALPUR DIVISION  BAHAWALNAGAR DISTRICT  BAHAWALNAGAR TEHSIL   \n",
       "1   PUNJAB  BAHAWALPUR DIVISION  BAHAWALNAGAR DISTRICT     CHISHTIAN TEHSIL   \n",
       "2   PUNJAB  BAHAWALPUR DIVISION  BAHAWALNAGAR DISTRICT    FORT ABBAS TEHSIL   \n",
       "3   PUNJAB  BAHAWALPUR DIVISION  BAHAWALNAGAR DISTRICT    HAROONABAD TEHSIL   \n",
       "4   PUNJAB  BAHAWALPUR DIVISION  BAHAWALNAGAR DISTRICT   MINCHINABAD TEHSIL   \n",
       "\n",
       "   AREA (sq.km)  ALL SEXES (RURAL)  MALE (RURAL)  FEMALE (RURAL)  \\\n",
       "0        1729.0             619550        316864          302644   \n",
       "1        1500.0             540342        273788          266500   \n",
       "2        2536.0             361240        182655          178541   \n",
       "3        1295.0             382115        192278          189808   \n",
       "4        1818.0             452723        231506          221178   \n",
       "\n",
       "   TRANSGENDER (RURAL)  SEX RATIO (RURAL)  ...  POPULATION 1998 (RURAL)  \\\n",
       "0                   42             104.70  ...                   407768   \n",
       "1                   54             102.73  ...                   395983   \n",
       "2                   44             102.30  ...                   250959   \n",
       "3                   29             101.30  ...                   297343   \n",
       "4                   39             104.67  ...                   316593   \n",
       "\n",
       "   ANNUAL GROWTH RATE (RURAL)  ALL SEXES (URBAN)  MALE (URBAN)  \\\n",
       "0                        2.22             193840         98391   \n",
       "1                        1.65             149424         75546   \n",
       "2                        1.93              61528         31360   \n",
       "3                        1.33             142600         71345   \n",
       "4                        1.90              72294         36694   \n",
       "\n",
       "   FEMALE (URBAN)  TRANSGENDER (URBAN)  SEX RATIO (URBAN)  \\\n",
       "0           95402                   47             103.13   \n",
       "1           73851                   27             102.30   \n",
       "2           30150                   18             104.01   \n",
       "3           71236                   19             100.15   \n",
       "4           35590                   10             103.10   \n",
       "\n",
       "   AVG HOUSEHOLD SIZE (URBAN)  POPULATION 1998 (URBAN)  \\\n",
       "0                        6.02                   133785   \n",
       "1                        6.01                   102287   \n",
       "2                        6.00                    34637   \n",
       "3                        6.02                    84424   \n",
       "4                        6.34                    37668   \n",
       "\n",
       "   ANNUAL GROWTH RATE (URBAN)  \n",
       "0                        1.97  \n",
       "1                        2.01  \n",
       "2                        3.06  \n",
       "3                        2.79  \n",
       "4                        3.48  \n",
       "\n",
       "[5 rows x 21 columns]"
      ]
     },
     "execution_count": 4,
     "metadata": {},
     "output_type": "execute_result"
    }
   ],
   "source": [
    "df.head()"
   ]
  },
  {
   "cell_type": "code",
   "execution_count": 5,
   "metadata": {},
   "outputs": [],
   "source": [
    "# Max colum printing option\n",
    "pd.set_option('display.max_columns', None)"
   ]
  },
  {
   "cell_type": "code",
   "execution_count": 6,
   "metadata": {},
   "outputs": [
    {
     "data": {
      "text/html": [
       "<div>\n",
       "<style scoped>\n",
       "    .dataframe tbody tr th:only-of-type {\n",
       "        vertical-align: middle;\n",
       "    }\n",
       "\n",
       "    .dataframe tbody tr th {\n",
       "        vertical-align: top;\n",
       "    }\n",
       "\n",
       "    .dataframe thead th {\n",
       "        text-align: right;\n",
       "    }\n",
       "</style>\n",
       "<table border=\"1\" class=\"dataframe\">\n",
       "  <thead>\n",
       "    <tr style=\"text-align: right;\">\n",
       "      <th></th>\n",
       "      <th>PROVINCE</th>\n",
       "      <th>DIVISION</th>\n",
       "      <th>DISTRICT</th>\n",
       "      <th>SUB DIVISION</th>\n",
       "      <th>AREA (sq.km)</th>\n",
       "      <th>ALL SEXES (RURAL)</th>\n",
       "      <th>MALE (RURAL)</th>\n",
       "      <th>FEMALE (RURAL)</th>\n",
       "      <th>TRANSGENDER (RURAL)</th>\n",
       "      <th>SEX RATIO (RURAL)</th>\n",
       "      <th>AVG HOUSEHOLD SIZE (RURAL)</th>\n",
       "      <th>POPULATION 1998 (RURAL)</th>\n",
       "      <th>ANNUAL GROWTH RATE (RURAL)</th>\n",
       "      <th>ALL SEXES (URBAN)</th>\n",
       "      <th>MALE (URBAN)</th>\n",
       "      <th>FEMALE (URBAN)</th>\n",
       "      <th>TRANSGENDER (URBAN)</th>\n",
       "      <th>SEX RATIO (URBAN)</th>\n",
       "      <th>AVG HOUSEHOLD SIZE (URBAN)</th>\n",
       "      <th>POPULATION 1998 (URBAN)</th>\n",
       "      <th>ANNUAL GROWTH RATE (URBAN)</th>\n",
       "    </tr>\n",
       "  </thead>\n",
       "  <tbody>\n",
       "    <tr>\n",
       "      <th>0</th>\n",
       "      <td>PUNJAB</td>\n",
       "      <td>BAHAWALPUR DIVISION</td>\n",
       "      <td>BAHAWALNAGAR DISTRICT</td>\n",
       "      <td>BAHAWALNAGAR TEHSIL</td>\n",
       "      <td>1729.0</td>\n",
       "      <td>619550</td>\n",
       "      <td>316864</td>\n",
       "      <td>302644</td>\n",
       "      <td>42</td>\n",
       "      <td>104.70</td>\n",
       "      <td>6.10</td>\n",
       "      <td>407768</td>\n",
       "      <td>2.22</td>\n",
       "      <td>193840</td>\n",
       "      <td>98391</td>\n",
       "      <td>95402</td>\n",
       "      <td>47</td>\n",
       "      <td>103.13</td>\n",
       "      <td>6.02</td>\n",
       "      <td>133785</td>\n",
       "      <td>1.97</td>\n",
       "    </tr>\n",
       "    <tr>\n",
       "      <th>1</th>\n",
       "      <td>PUNJAB</td>\n",
       "      <td>BAHAWALPUR DIVISION</td>\n",
       "      <td>BAHAWALNAGAR DISTRICT</td>\n",
       "      <td>CHISHTIAN TEHSIL</td>\n",
       "      <td>1500.0</td>\n",
       "      <td>540342</td>\n",
       "      <td>273788</td>\n",
       "      <td>266500</td>\n",
       "      <td>54</td>\n",
       "      <td>102.73</td>\n",
       "      <td>6.15</td>\n",
       "      <td>395983</td>\n",
       "      <td>1.65</td>\n",
       "      <td>149424</td>\n",
       "      <td>75546</td>\n",
       "      <td>73851</td>\n",
       "      <td>27</td>\n",
       "      <td>102.30</td>\n",
       "      <td>6.01</td>\n",
       "      <td>102287</td>\n",
       "      <td>2.01</td>\n",
       "    </tr>\n",
       "    <tr>\n",
       "      <th>2</th>\n",
       "      <td>PUNJAB</td>\n",
       "      <td>BAHAWALPUR DIVISION</td>\n",
       "      <td>BAHAWALNAGAR DISTRICT</td>\n",
       "      <td>FORT ABBAS TEHSIL</td>\n",
       "      <td>2536.0</td>\n",
       "      <td>361240</td>\n",
       "      <td>182655</td>\n",
       "      <td>178541</td>\n",
       "      <td>44</td>\n",
       "      <td>102.30</td>\n",
       "      <td>6.32</td>\n",
       "      <td>250959</td>\n",
       "      <td>1.93</td>\n",
       "      <td>61528</td>\n",
       "      <td>31360</td>\n",
       "      <td>30150</td>\n",
       "      <td>18</td>\n",
       "      <td>104.01</td>\n",
       "      <td>6.00</td>\n",
       "      <td>34637</td>\n",
       "      <td>3.06</td>\n",
       "    </tr>\n",
       "    <tr>\n",
       "      <th>3</th>\n",
       "      <td>PUNJAB</td>\n",
       "      <td>BAHAWALPUR DIVISION</td>\n",
       "      <td>BAHAWALNAGAR DISTRICT</td>\n",
       "      <td>HAROONABAD TEHSIL</td>\n",
       "      <td>1295.0</td>\n",
       "      <td>382115</td>\n",
       "      <td>192278</td>\n",
       "      <td>189808</td>\n",
       "      <td>29</td>\n",
       "      <td>101.30</td>\n",
       "      <td>6.15</td>\n",
       "      <td>297343</td>\n",
       "      <td>1.33</td>\n",
       "      <td>142600</td>\n",
       "      <td>71345</td>\n",
       "      <td>71236</td>\n",
       "      <td>19</td>\n",
       "      <td>100.15</td>\n",
       "      <td>6.02</td>\n",
       "      <td>84424</td>\n",
       "      <td>2.79</td>\n",
       "    </tr>\n",
       "    <tr>\n",
       "      <th>4</th>\n",
       "      <td>PUNJAB</td>\n",
       "      <td>BAHAWALPUR DIVISION</td>\n",
       "      <td>BAHAWALNAGAR DISTRICT</td>\n",
       "      <td>MINCHINABAD TEHSIL</td>\n",
       "      <td>1818.0</td>\n",
       "      <td>452723</td>\n",
       "      <td>231506</td>\n",
       "      <td>221178</td>\n",
       "      <td>39</td>\n",
       "      <td>104.67</td>\n",
       "      <td>6.29</td>\n",
       "      <td>316593</td>\n",
       "      <td>1.90</td>\n",
       "      <td>72294</td>\n",
       "      <td>36694</td>\n",
       "      <td>35590</td>\n",
       "      <td>10</td>\n",
       "      <td>103.10</td>\n",
       "      <td>6.34</td>\n",
       "      <td>37668</td>\n",
       "      <td>3.48</td>\n",
       "    </tr>\n",
       "  </tbody>\n",
       "</table>\n",
       "</div>"
      ],
      "text/plain": [
       "  PROVINCE             DIVISION               DISTRICT         SUB DIVISION  \\\n",
       "0   PUNJAB  BAHAWALPUR DIVISION  BAHAWALNAGAR DISTRICT  BAHAWALNAGAR TEHSIL   \n",
       "1   PUNJAB  BAHAWALPUR DIVISION  BAHAWALNAGAR DISTRICT     CHISHTIAN TEHSIL   \n",
       "2   PUNJAB  BAHAWALPUR DIVISION  BAHAWALNAGAR DISTRICT    FORT ABBAS TEHSIL   \n",
       "3   PUNJAB  BAHAWALPUR DIVISION  BAHAWALNAGAR DISTRICT    HAROONABAD TEHSIL   \n",
       "4   PUNJAB  BAHAWALPUR DIVISION  BAHAWALNAGAR DISTRICT   MINCHINABAD TEHSIL   \n",
       "\n",
       "   AREA (sq.km)  ALL SEXES (RURAL)  MALE (RURAL)  FEMALE (RURAL)  \\\n",
       "0        1729.0             619550        316864          302644   \n",
       "1        1500.0             540342        273788          266500   \n",
       "2        2536.0             361240        182655          178541   \n",
       "3        1295.0             382115        192278          189808   \n",
       "4        1818.0             452723        231506          221178   \n",
       "\n",
       "   TRANSGENDER (RURAL)  SEX RATIO (RURAL)  AVG HOUSEHOLD SIZE (RURAL)  \\\n",
       "0                   42             104.70                        6.10   \n",
       "1                   54             102.73                        6.15   \n",
       "2                   44             102.30                        6.32   \n",
       "3                   29             101.30                        6.15   \n",
       "4                   39             104.67                        6.29   \n",
       "\n",
       "   POPULATION 1998 (RURAL)  ANNUAL GROWTH RATE (RURAL)  ALL SEXES (URBAN)  \\\n",
       "0                   407768                        2.22             193840   \n",
       "1                   395983                        1.65             149424   \n",
       "2                   250959                        1.93              61528   \n",
       "3                   297343                        1.33             142600   \n",
       "4                   316593                        1.90              72294   \n",
       "\n",
       "   MALE (URBAN)  FEMALE (URBAN)  TRANSGENDER (URBAN)  SEX RATIO (URBAN)  \\\n",
       "0         98391           95402                   47             103.13   \n",
       "1         75546           73851                   27             102.30   \n",
       "2         31360           30150                   18             104.01   \n",
       "3         71345           71236                   19             100.15   \n",
       "4         36694           35590                   10             103.10   \n",
       "\n",
       "   AVG HOUSEHOLD SIZE (URBAN)  POPULATION 1998 (URBAN)  \\\n",
       "0                        6.02                   133785   \n",
       "1                        6.01                   102287   \n",
       "2                        6.00                    34637   \n",
       "3                        6.02                    84424   \n",
       "4                        6.34                    37668   \n",
       "\n",
       "   ANNUAL GROWTH RATE (URBAN)  \n",
       "0                        1.97  \n",
       "1                        2.01  \n",
       "2                        3.06  \n",
       "3                        2.79  \n",
       "4                        3.48  "
      ]
     },
     "execution_count": 6,
     "metadata": {},
     "output_type": "execute_result"
    }
   ],
   "source": [
    "df.head()"
   ]
  },
  {
   "cell_type": "code",
   "execution_count": 7,
   "metadata": {},
   "outputs": [
    {
     "data": {
      "text/plain": [
       "Index(['PROVINCE', 'DIVISION', 'DISTRICT', 'SUB DIVISION', 'AREA (sq.km)',\n",
       "       'ALL SEXES (RURAL)', 'MALE (RURAL)', 'FEMALE (RURAL)',\n",
       "       'TRANSGENDER (RURAL)', 'SEX RATIO (RURAL)',\n",
       "       'AVG HOUSEHOLD SIZE (RURAL)', 'POPULATION 1998 (RURAL)',\n",
       "       'ANNUAL GROWTH RATE (RURAL)', 'ALL SEXES (URBAN)', 'MALE (URBAN)',\n",
       "       'FEMALE (URBAN)', 'TRANSGENDER (URBAN)', 'SEX RATIO (URBAN)',\n",
       "       'AVG HOUSEHOLD SIZE (URBAN)', 'POPULATION 1998 (URBAN)',\n",
       "       'ANNUAL GROWTH RATE (URBAN)'],\n",
       "      dtype='object')"
      ]
     },
     "execution_count": 7,
     "metadata": {},
     "output_type": "execute_result"
    }
   ],
   "source": [
    "# let see all the column names at once\n",
    "df.columns"
   ]
  },
  {
   "cell_type": "code",
   "execution_count": 8,
   "metadata": {},
   "outputs": [
    {
     "data": {
      "text/plain": [
       "PROVINCE                       object\n",
       "DIVISION                       object\n",
       "DISTRICT                       object\n",
       "SUB DIVISION                   object\n",
       "AREA (sq.km)                  float64\n",
       "ALL SEXES (RURAL)               int64\n",
       "MALE (RURAL)                    int64\n",
       "FEMALE (RURAL)                  int64\n",
       "TRANSGENDER (RURAL)             int64\n",
       "SEX RATIO (RURAL)             float64\n",
       "AVG HOUSEHOLD SIZE (RURAL)    float64\n",
       "POPULATION 1998 (RURAL)         int64\n",
       "ANNUAL GROWTH RATE (RURAL)    float64\n",
       "ALL SEXES (URBAN)               int64\n",
       "MALE (URBAN)                    int64\n",
       "FEMALE (URBAN)                  int64\n",
       "TRANSGENDER (URBAN)             int64\n",
       "SEX RATIO (URBAN)             float64\n",
       "AVG HOUSEHOLD SIZE (URBAN)    float64\n",
       "POPULATION 1998 (URBAN)         int64\n",
       "ANNUAL GROWTH RATE (URBAN)    float64\n",
       "dtype: object"
      ]
     },
     "execution_count": 8,
     "metadata": {},
     "output_type": "execute_result"
    }
   ],
   "source": [
    "#let have a look on dtype\n",
    "df.dtypes  # we see this in info coulumn\n"
   ]
  },
  {
   "cell_type": "code",
   "execution_count": 9,
   "metadata": {},
   "outputs": [
    {
     "data": {
      "text/html": [
       "<div>\n",
       "<style scoped>\n",
       "    .dataframe tbody tr th:only-of-type {\n",
       "        vertical-align: middle;\n",
       "    }\n",
       "\n",
       "    .dataframe tbody tr th {\n",
       "        vertical-align: top;\n",
       "    }\n",
       "\n",
       "    .dataframe thead th {\n",
       "        text-align: right;\n",
       "    }\n",
       "</style>\n",
       "<table border=\"1\" class=\"dataframe\">\n",
       "  <thead>\n",
       "    <tr style=\"text-align: right;\">\n",
       "      <th></th>\n",
       "      <th>count</th>\n",
       "      <th>mean</th>\n",
       "      <th>std</th>\n",
       "      <th>min</th>\n",
       "      <th>25%</th>\n",
       "      <th>50%</th>\n",
       "      <th>75%</th>\n",
       "      <th>max</th>\n",
       "    </tr>\n",
       "  </thead>\n",
       "  <tbody>\n",
       "    <tr>\n",
       "      <th>AREA (sq.km)</th>\n",
       "      <td>528.0</td>\n",
       "      <td>1492.005871</td>\n",
       "      <td>2039.453778</td>\n",
       "      <td>0.0</td>\n",
       "      <td>425.000</td>\n",
       "      <td>882.000</td>\n",
       "      <td>1734.2500</td>\n",
       "      <td>18374.00</td>\n",
       "    </tr>\n",
       "    <tr>\n",
       "      <th>ALL SEXES (RURAL)</th>\n",
       "      <td>528.0</td>\n",
       "      <td>246278.011364</td>\n",
       "      <td>271189.816559</td>\n",
       "      <td>0.0</td>\n",
       "      <td>50934.500</td>\n",
       "      <td>165241.000</td>\n",
       "      <td>312911.2500</td>\n",
       "      <td>2297375.00</td>\n",
       "    </tr>\n",
       "    <tr>\n",
       "      <th>MALE (RURAL)</th>\n",
       "      <td>528.0</td>\n",
       "      <td>125275.687500</td>\n",
       "      <td>137563.021458</td>\n",
       "      <td>0.0</td>\n",
       "      <td>27127.250</td>\n",
       "      <td>84134.500</td>\n",
       "      <td>160502.2500</td>\n",
       "      <td>1172995.00</td>\n",
       "    </tr>\n",
       "    <tr>\n",
       "      <th>FEMALE (RURAL)</th>\n",
       "      <td>528.0</td>\n",
       "      <td>120984.149621</td>\n",
       "      <td>133716.898296</td>\n",
       "      <td>0.0</td>\n",
       "      <td>23979.000</td>\n",
       "      <td>82044.000</td>\n",
       "      <td>152219.0000</td>\n",
       "      <td>1124167.00</td>\n",
       "    </tr>\n",
       "    <tr>\n",
       "      <th>TRANSGENDER (RURAL)</th>\n",
       "      <td>528.0</td>\n",
       "      <td>18.174242</td>\n",
       "      <td>25.522248</td>\n",
       "      <td>0.0</td>\n",
       "      <td>1.000</td>\n",
       "      <td>10.000</td>\n",
       "      <td>25.0000</td>\n",
       "      <td>213.00</td>\n",
       "    </tr>\n",
       "    <tr>\n",
       "      <th>SEX RATIO (RURAL)</th>\n",
       "      <td>528.0</td>\n",
       "      <td>98.982614</td>\n",
       "      <td>26.812660</td>\n",
       "      <td>0.0</td>\n",
       "      <td>101.105</td>\n",
       "      <td>105.285</td>\n",
       "      <td>108.3475</td>\n",
       "      <td>139.38</td>\n",
       "    </tr>\n",
       "    <tr>\n",
       "      <th>AVG HOUSEHOLD SIZE (RURAL)</th>\n",
       "      <td>528.0</td>\n",
       "      <td>6.277064</td>\n",
       "      <td>2.074947</td>\n",
       "      <td>0.0</td>\n",
       "      <td>5.700</td>\n",
       "      <td>6.310</td>\n",
       "      <td>7.2000</td>\n",
       "      <td>12.43</td>\n",
       "    </tr>\n",
       "    <tr>\n",
       "      <th>POPULATION 1998 (RURAL)</th>\n",
       "      <td>528.0</td>\n",
       "      <td>167427.994318</td>\n",
       "      <td>178388.976993</td>\n",
       "      <td>0.0</td>\n",
       "      <td>35273.500</td>\n",
       "      <td>117206.500</td>\n",
       "      <td>213054.2500</td>\n",
       "      <td>1044035.00</td>\n",
       "    </tr>\n",
       "    <tr>\n",
       "      <th>ANNUAL GROWTH RATE (RURAL)</th>\n",
       "      <td>528.0</td>\n",
       "      <td>3.124792</td>\n",
       "      <td>9.577872</td>\n",
       "      <td>0.0</td>\n",
       "      <td>1.440</td>\n",
       "      <td>2.030</td>\n",
       "      <td>2.8125</td>\n",
       "      <td>100.00</td>\n",
       "    </tr>\n",
       "    <tr>\n",
       "      <th>ALL SEXES (URBAN)</th>\n",
       "      <td>528.0</td>\n",
       "      <td>140863.528409</td>\n",
       "      <td>351246.279136</td>\n",
       "      <td>0.0</td>\n",
       "      <td>0.000</td>\n",
       "      <td>43254.500</td>\n",
       "      <td>117814.7500</td>\n",
       "      <td>3653616.00</td>\n",
       "    </tr>\n",
       "    <tr>\n",
       "      <th>MALE (URBAN)</th>\n",
       "      <td>528.0</td>\n",
       "      <td>72843.386364</td>\n",
       "      <td>182349.241379</td>\n",
       "      <td>0.0</td>\n",
       "      <td>0.000</td>\n",
       "      <td>21980.000</td>\n",
       "      <td>60301.7500</td>\n",
       "      <td>1905921.00</td>\n",
       "    </tr>\n",
       "    <tr>\n",
       "      <th>FEMALE (URBAN)</th>\n",
       "      <td>528.0</td>\n",
       "      <td>67997.865530</td>\n",
       "      <td>168872.528212</td>\n",
       "      <td>0.0</td>\n",
       "      <td>0.000</td>\n",
       "      <td>20999.000</td>\n",
       "      <td>57465.2500</td>\n",
       "      <td>1746900.00</td>\n",
       "    </tr>\n",
       "    <tr>\n",
       "      <th>TRANSGENDER (URBAN)</th>\n",
       "      <td>528.0</td>\n",
       "      <td>22.276515</td>\n",
       "      <td>66.068127</td>\n",
       "      <td>0.0</td>\n",
       "      <td>0.000</td>\n",
       "      <td>3.000</td>\n",
       "      <td>19.0000</td>\n",
       "      <td>795.00</td>\n",
       "    </tr>\n",
       "    <tr>\n",
       "      <th>SEX RATIO (URBAN)</th>\n",
       "      <td>528.0</td>\n",
       "      <td>75.411269</td>\n",
       "      <td>49.687341</td>\n",
       "      <td>0.0</td>\n",
       "      <td>0.000</td>\n",
       "      <td>103.195</td>\n",
       "      <td>107.0400</td>\n",
       "      <td>297.81</td>\n",
       "    </tr>\n",
       "    <tr>\n",
       "      <th>AVG HOUSEHOLD SIZE (URBAN)</th>\n",
       "      <td>528.0</td>\n",
       "      <td>4.406402</td>\n",
       "      <td>2.948336</td>\n",
       "      <td>0.0</td>\n",
       "      <td>0.000</td>\n",
       "      <td>5.755</td>\n",
       "      <td>6.3400</td>\n",
       "      <td>10.06</td>\n",
       "    </tr>\n",
       "    <tr>\n",
       "      <th>POPULATION 1998 (URBAN)</th>\n",
       "      <td>528.0</td>\n",
       "      <td>80144.566288</td>\n",
       "      <td>202312.019227</td>\n",
       "      <td>0.0</td>\n",
       "      <td>0.000</td>\n",
       "      <td>21298.000</td>\n",
       "      <td>65422.2500</td>\n",
       "      <td>2075867.00</td>\n",
       "    </tr>\n",
       "    <tr>\n",
       "      <th>ANNUAL GROWTH RATE (URBAN)</th>\n",
       "      <td>528.0</td>\n",
       "      <td>1.920814</td>\n",
       "      <td>2.098908</td>\n",
       "      <td>0.0</td>\n",
       "      <td>0.000</td>\n",
       "      <td>1.855</td>\n",
       "      <td>2.9850</td>\n",
       "      <td>19.78</td>\n",
       "    </tr>\n",
       "  </tbody>\n",
       "</table>\n",
       "</div>"
      ],
      "text/plain": [
       "                            count           mean            std  min  \\\n",
       "AREA (sq.km)                528.0    1492.005871    2039.453778  0.0   \n",
       "ALL SEXES (RURAL)           528.0  246278.011364  271189.816559  0.0   \n",
       "MALE (RURAL)                528.0  125275.687500  137563.021458  0.0   \n",
       "FEMALE (RURAL)              528.0  120984.149621  133716.898296  0.0   \n",
       "TRANSGENDER (RURAL)         528.0      18.174242      25.522248  0.0   \n",
       "SEX RATIO (RURAL)           528.0      98.982614      26.812660  0.0   \n",
       "AVG HOUSEHOLD SIZE (RURAL)  528.0       6.277064       2.074947  0.0   \n",
       "POPULATION 1998 (RURAL)     528.0  167427.994318  178388.976993  0.0   \n",
       "ANNUAL GROWTH RATE (RURAL)  528.0       3.124792       9.577872  0.0   \n",
       "ALL SEXES (URBAN)           528.0  140863.528409  351246.279136  0.0   \n",
       "MALE (URBAN)                528.0   72843.386364  182349.241379  0.0   \n",
       "FEMALE (URBAN)              528.0   67997.865530  168872.528212  0.0   \n",
       "TRANSGENDER (URBAN)         528.0      22.276515      66.068127  0.0   \n",
       "SEX RATIO (URBAN)           528.0      75.411269      49.687341  0.0   \n",
       "AVG HOUSEHOLD SIZE (URBAN)  528.0       4.406402       2.948336  0.0   \n",
       "POPULATION 1998 (URBAN)     528.0   80144.566288  202312.019227  0.0   \n",
       "ANNUAL GROWTH RATE (URBAN)  528.0       1.920814       2.098908  0.0   \n",
       "\n",
       "                                  25%         50%          75%         max  \n",
       "AREA (sq.km)                  425.000     882.000    1734.2500    18374.00  \n",
       "ALL SEXES (RURAL)           50934.500  165241.000  312911.2500  2297375.00  \n",
       "MALE (RURAL)                27127.250   84134.500  160502.2500  1172995.00  \n",
       "FEMALE (RURAL)              23979.000   82044.000  152219.0000  1124167.00  \n",
       "TRANSGENDER (RURAL)             1.000      10.000      25.0000      213.00  \n",
       "SEX RATIO (RURAL)             101.105     105.285     108.3475      139.38  \n",
       "AVG HOUSEHOLD SIZE (RURAL)      5.700       6.310       7.2000       12.43  \n",
       "POPULATION 1998 (RURAL)     35273.500  117206.500  213054.2500  1044035.00  \n",
       "ANNUAL GROWTH RATE (RURAL)      1.440       2.030       2.8125      100.00  \n",
       "ALL SEXES (URBAN)               0.000   43254.500  117814.7500  3653616.00  \n",
       "MALE (URBAN)                    0.000   21980.000   60301.7500  1905921.00  \n",
       "FEMALE (URBAN)                  0.000   20999.000   57465.2500  1746900.00  \n",
       "TRANSGENDER (URBAN)             0.000       3.000      19.0000      795.00  \n",
       "SEX RATIO (URBAN)               0.000     103.195     107.0400      297.81  \n",
       "AVG HOUSEHOLD SIZE (URBAN)      0.000       5.755       6.3400       10.06  \n",
       "POPULATION 1998 (URBAN)         0.000   21298.000   65422.2500  2075867.00  \n",
       "ANNUAL GROWTH RATE (URBAN)      0.000       1.855       2.9850       19.78  "
      ]
     },
     "execution_count": 9,
     "metadata": {},
     "output_type": "execute_result"
    }
   ],
   "source": [
    "# summry statistic of data\n",
    "df.describe().T"
   ]
  },
  {
   "cell_type": "code",
   "execution_count": 10,
   "metadata": {},
   "outputs": [
    {
     "data": {
      "text/plain": [
       "(528, 21)"
      ]
     },
     "execution_count": 10,
     "metadata": {},
     "output_type": "execute_result"
    }
   ],
   "source": [
    "# how many rows and columns\n",
    "df.shape"
   ]
  },
  {
   "cell_type": "code",
   "execution_count": 11,
   "metadata": {},
   "outputs": [
    {
     "data": {
      "text/plain": [
       "PROVINCE                      0\n",
       "DIVISION                      0\n",
       "DISTRICT                      0\n",
       "SUB DIVISION                  0\n",
       "AREA (sq.km)                  0\n",
       "ALL SEXES (RURAL)             0\n",
       "MALE (RURAL)                  0\n",
       "FEMALE (RURAL)                0\n",
       "TRANSGENDER (RURAL)           0\n",
       "SEX RATIO (RURAL)             0\n",
       "AVG HOUSEHOLD SIZE (RURAL)    0\n",
       "POPULATION 1998 (RURAL)       0\n",
       "ANNUAL GROWTH RATE (RURAL)    0\n",
       "ALL SEXES (URBAN)             0\n",
       "MALE (URBAN)                  0\n",
       "FEMALE (URBAN)                0\n",
       "TRANSGENDER (URBAN)           0\n",
       "SEX RATIO (URBAN)             0\n",
       "AVG HOUSEHOLD SIZE (URBAN)    0\n",
       "POPULATION 1998 (URBAN)       0\n",
       "ANNUAL GROWTH RATE (URBAN)    0\n",
       "dtype: int64"
      ]
     },
     "execution_count": 11,
     "metadata": {},
     "output_type": "execute_result"
    }
   ],
   "source": [
    "# how many are the missing values\n",
    "df.isnull().sum()"
   ]
  },
  {
   "cell_type": "code",
   "execution_count": 12,
   "metadata": {},
   "outputs": [
    {
     "data": {
      "text/plain": [
       "<Axes: ylabel='AREA (sq.km)'>"
      ]
     },
     "execution_count": 12,
     "metadata": {},
     "output_type": "execute_result"
    },
    {
     "data": {
      "image/png": "[encoded data removed]",
      "text/plain": [
       "<Figure size 640x480 with 1 Axes>"
      ]
     },
     "metadata": {},
     "output_type": "display_data"
    }
   ],
   "source": [
    "# box plot\n",
    "sns.boxenplot(df, y=\"AREA (sq.km)\")"
   ]
  },
  {
   "cell_type": "code",
   "execution_count": 13,
   "metadata": {},
   "outputs": [
    {
     "data": {
      "text/plain": [
       "<Axes: xlabel='AREA (sq.km)', ylabel='Count'>"
      ]
     },
     "execution_count": 13,
     "metadata": {},
     "output_type": "execute_result"
    },
    {
     "data": {
      "image/png": "[encoded data removed]",
      "text/plain": [
       "<Figure size 640x480 with 1 Axes>"
      ]
     },
     "metadata": {},
     "output_type": "display_data"
    }
   ],
   "source": [
    "sns.histplot(df, x=\"AREA (sq.km)\")"
   ]
  },
  {
   "cell_type": "code",
   "execution_count": 14,
   "metadata": {},
   "outputs": [
    {
     "data": {
      "text/plain": [
       "Index(['PROVINCE', 'DIVISION', 'DISTRICT', 'SUB DIVISION', 'AREA (sq.km)',\n",
       "       'ALL SEXES (RURAL)', 'MALE (RURAL)', 'FEMALE (RURAL)',\n",
       "       'TRANSGENDER (RURAL)', 'SEX RATIO (RURAL)',\n",
       "       'AVG HOUSEHOLD SIZE (RURAL)', 'POPULATION 1998 (RURAL)',\n",
       "       'ANNUAL GROWTH RATE (RURAL)', 'ALL SEXES (URBAN)', 'MALE (URBAN)',\n",
       "       'FEMALE (URBAN)', 'TRANSGENDER (URBAN)', 'SEX RATIO (URBAN)',\n",
       "       'AVG HOUSEHOLD SIZE (URBAN)', 'POPULATION 1998 (URBAN)',\n",
       "       'ANNUAL GROWTH RATE (URBAN)'],\n",
       "      dtype='object')"
      ]
     },
     "execution_count": 14,
     "metadata": {},
     "output_type": "execute_result"
    }
   ],
   "source": [
    "df.columns"
   ]
  },
  {
   "cell_type": "code",
   "execution_count": 15,
   "metadata": {},
   "outputs": [
    {
     "data": {
      "text/plain": [
       "<Axes: xlabel='PROVINCE', ylabel='ALL SEXES (RURAL)'>"
      ]
     },
     "execution_count": 15,
     "metadata": {},
     "output_type": "execute_result"
    },
    {
     "data": {
      "image/png": "[encoded data removed]",
      "text/plain": [
       "<Figure size 640x480 with 1 Axes>"
      ]
     },
     "metadata": {},
     "output_type": "display_data"
    }
   ],
   "source": [
    "sns.boxenplot(df, x='PROVINCE' , y=\"ALL SEXES (RURAL)\", hue=\"DIVISION\")"
   ]
  },
  {
   "cell_type": "code",
   "execution_count": 16,
   "metadata": {},
   "outputs": [
    {
     "data": {
      "text/plain": [
       "<Axes: xlabel='PROVINCE', ylabel='DIVISION'>"
      ]
     },
     "execution_count": 16,
     "metadata": {},
     "output_type": "execute_result"
    },
    {
     "data": {
      "image/png": "[encoded data removed]",
      "text/plain": [
       "<Figure size 640x480 with 1 Axes>"
      ]
     },
     "metadata": {},
     "output_type": "display_data"
    }
   ],
   "source": [
    "sns.boxenplot(df, y='DIVISION' , x=\"PROVINCE\")"
   ]
  },
  {
   "cell_type": "code",
   "execution_count": 17,
   "metadata": {},
   "outputs": [
    {
     "data": {
      "text/plain": [
       "array(['PUNJAB', 'SINDH', 'BALOCHISTAN', 'KPK', 'KPK/FATA'], dtype=object)"
      ]
     },
     "execution_count": 17,
     "metadata": {},
     "output_type": "execute_result"
    }
   ],
   "source": [
    "# it is very hard to plot therfore we will use groupby function to make tabular data\n",
    "df['PROVINCE'].unique()"
   ]
  },
  {
   "cell_type": "code",
   "execution_count": 18,
   "metadata": {},
   "outputs": [
    {
     "data": {
      "text/plain": [
       "5"
      ]
     },
     "execution_count": 18,
     "metadata": {},
     "output_type": "execute_result"
    }
   ],
   "source": [
    "df['PROVINCE'].nunique()"
   ]
  },
  {
   "cell_type": "code",
   "execution_count": 19,
   "metadata": {},
   "outputs": [
    {
     "data": {
      "text/plain": [
       "array(['BAHAWALPUR DIVISION', 'D.G.KHAN DIVISION', 'FAISALABAD DIVISION',\n",
       "       'GUJRANWALA DIVISION', 'LAHORE DIVISION', 'MULTAN DIVISION',\n",
       "       'RAWALPINDI DIVISION', 'SAHIWAL DIVISION', 'SARGODHA DIVISION',\n",
       "       'Badin Division', 'Hyderabad Division', 'Karachi Division',\n",
       "       'Larkana Division', 'Mirpurkhas Division',\n",
       "       'Shaheed Benazirabad Division', 'Sukkur Division',\n",
       "       'Makran Division', 'Kalat Division', 'Naseerabad Division',\n",
       "       'Quetta Division', 'Zhob Division', 'BANNU DIVISION',\n",
       "       'DERA ISMAIL KHAN DIVISION', 'HAZARA DIVISION', 'KOHAT DIVISION',\n",
       "       'MARDAN DIVISION', 'PESHAWAR DIVISION', 'MALAKAND DIVISION'],\n",
       "      dtype=object)"
      ]
     },
     "execution_count": 19,
     "metadata": {},
     "output_type": "execute_result"
    }
   ],
   "source": [
    "df['DIVISION'].unique()"
   ]
  },
  {
   "cell_type": "code",
   "execution_count": 20,
   "metadata": {},
   "outputs": [
    {
     "data": {
      "text/plain": [
       "28"
      ]
     },
     "execution_count": 20,
     "metadata": {},
     "output_type": "execute_result"
    }
   ],
   "source": [
    "df['DIVISION'].nunique()"
   ]
  },
  {
   "cell_type": "code",
   "execution_count": 21,
   "metadata": {},
   "outputs": [
    {
     "data": {
      "text/plain": [
       "528"
      ]
     },
     "execution_count": 21,
     "metadata": {},
     "output_type": "execute_result"
    }
   ],
   "source": [
    "len(df) # no of rows"
   ]
  },
  {
   "cell_type": "code",
   "execution_count": 22,
   "metadata": {},
   "outputs": [
    {
     "data": {
      "text/plain": [
       "DIVISION\n",
       "BAHAWALPUR DIVISION             15\n",
       "BANNU DIVISION                  15\n",
       "Badin Division                   5\n",
       "D.G.KHAN DIVISION               14\n",
       "DERA ISMAIL KHAN DIVISION       15\n",
       "FAISALABAD DIVISION             17\n",
       "GUJRANWALA DIVISION             20\n",
       "HAZARA DIVISION                 15\n",
       "Hyderabad Division              30\n",
       "KOHAT DIVISION                  14\n",
       "Kalat Division                  18\n",
       "Karachi Division                30\n",
       "LAHORE DIVISION                 17\n",
       "Larkana Division                21\n",
       "MALAKAND DIVISION               33\n",
       "MARDAN DIVISION                  7\n",
       "MULTAN DIVISION                 14\n",
       "Makran Division                 37\n",
       "Mirpurkhas Division             18\n",
       "Naseerabad Division             19\n",
       "PESHAWAR DIVISION               18\n",
       "Quetta Division                 38\n",
       "RAWALPINDI DIVISION             22\n",
       "SAHIWAL DIVISION                 7\n",
       "SARGODHA DIVISION               17\n",
       "Shaheed Benazirabad Division    15\n",
       "Sukkur Division                 18\n",
       "Zhob Division                   19\n",
       "dtype: int64"
      ]
     },
     "execution_count": 22,
     "metadata": {},
     "output_type": "execute_result"
    }
   ],
   "source": [
    "# use groupby function\n",
    "df.groupby(['DIVISION']).size() # size is used to count the no of rows #in sab ko add krn  gay to 528 hain"
   ]
  },
  {
   "cell_type": "code",
   "execution_count": 23,
   "metadata": {},
   "outputs": [
    {
     "data": {
      "text/html": [
       "<div>\n",
       "<style scoped>\n",
       "    .dataframe tbody tr th:only-of-type {\n",
       "        vertical-align: middle;\n",
       "    }\n",
       "\n",
       "    .dataframe tbody tr th {\n",
       "        vertical-align: top;\n",
       "    }\n",
       "\n",
       "    .dataframe thead th {\n",
       "        text-align: right;\n",
       "    }\n",
       "</style>\n",
       "<table border=\"1\" class=\"dataframe\">\n",
       "  <thead>\n",
       "    <tr style=\"text-align: right;\">\n",
       "      <th></th>\n",
       "      <th>PROVINCE</th>\n",
       "      <th>DIVISION</th>\n",
       "      <th>DISTRICT</th>\n",
       "      <th>SUB DIVISION</th>\n",
       "      <th>AREA (sq.km)</th>\n",
       "      <th>ALL SEXES (RURAL)</th>\n",
       "      <th>MALE (RURAL)</th>\n",
       "      <th>FEMALE (RURAL)</th>\n",
       "      <th>TRANSGENDER (RURAL)</th>\n",
       "      <th>SEX RATIO (RURAL)</th>\n",
       "      <th>AVG HOUSEHOLD SIZE (RURAL)</th>\n",
       "      <th>POPULATION 1998 (RURAL)</th>\n",
       "      <th>ANNUAL GROWTH RATE (RURAL)</th>\n",
       "      <th>ALL SEXES (URBAN)</th>\n",
       "      <th>MALE (URBAN)</th>\n",
       "      <th>FEMALE (URBAN)</th>\n",
       "      <th>TRANSGENDER (URBAN)</th>\n",
       "      <th>SEX RATIO (URBAN)</th>\n",
       "      <th>AVG HOUSEHOLD SIZE (URBAN)</th>\n",
       "      <th>POPULATION 1998 (URBAN)</th>\n",
       "      <th>ANNUAL GROWTH RATE (URBAN)</th>\n",
       "    </tr>\n",
       "  </thead>\n",
       "  <tbody>\n",
       "    <tr>\n",
       "      <th>0</th>\n",
       "      <td>PUNJAB</td>\n",
       "      <td>BAHAWALPUR DIVISION</td>\n",
       "      <td>BAHAWALNAGAR DISTRICT</td>\n",
       "      <td>BAHAWALNAGAR TEHSIL</td>\n",
       "      <td>1729.0</td>\n",
       "      <td>619550</td>\n",
       "      <td>316864</td>\n",
       "      <td>302644</td>\n",
       "      <td>42</td>\n",
       "      <td>104.70</td>\n",
       "      <td>6.10</td>\n",
       "      <td>407768</td>\n",
       "      <td>2.22</td>\n",
       "      <td>193840</td>\n",
       "      <td>98391</td>\n",
       "      <td>95402</td>\n",
       "      <td>47</td>\n",
       "      <td>103.13</td>\n",
       "      <td>6.02</td>\n",
       "      <td>133785</td>\n",
       "      <td>1.97</td>\n",
       "    </tr>\n",
       "    <tr>\n",
       "      <th>1</th>\n",
       "      <td>PUNJAB</td>\n",
       "      <td>BAHAWALPUR DIVISION</td>\n",
       "      <td>BAHAWALNAGAR DISTRICT</td>\n",
       "      <td>CHISHTIAN TEHSIL</td>\n",
       "      <td>1500.0</td>\n",
       "      <td>540342</td>\n",
       "      <td>273788</td>\n",
       "      <td>266500</td>\n",
       "      <td>54</td>\n",
       "      <td>102.73</td>\n",
       "      <td>6.15</td>\n",
       "      <td>395983</td>\n",
       "      <td>1.65</td>\n",
       "      <td>149424</td>\n",
       "      <td>75546</td>\n",
       "      <td>73851</td>\n",
       "      <td>27</td>\n",
       "      <td>102.30</td>\n",
       "      <td>6.01</td>\n",
       "      <td>102287</td>\n",
       "      <td>2.01</td>\n",
       "    </tr>\n",
       "    <tr>\n",
       "      <th>2</th>\n",
       "      <td>PUNJAB</td>\n",
       "      <td>BAHAWALPUR DIVISION</td>\n",
       "      <td>BAHAWALNAGAR DISTRICT</td>\n",
       "      <td>FORT ABBAS TEHSIL</td>\n",
       "      <td>2536.0</td>\n",
       "      <td>361240</td>\n",
       "      <td>182655</td>\n",
       "      <td>178541</td>\n",
       "      <td>44</td>\n",
       "      <td>102.30</td>\n",
       "      <td>6.32</td>\n",
       "      <td>250959</td>\n",
       "      <td>1.93</td>\n",
       "      <td>61528</td>\n",
       "      <td>31360</td>\n",
       "      <td>30150</td>\n",
       "      <td>18</td>\n",
       "      <td>104.01</td>\n",
       "      <td>6.00</td>\n",
       "      <td>34637</td>\n",
       "      <td>3.06</td>\n",
       "    </tr>\n",
       "    <tr>\n",
       "      <th>3</th>\n",
       "      <td>PUNJAB</td>\n",
       "      <td>BAHAWALPUR DIVISION</td>\n",
       "      <td>BAHAWALNAGAR DISTRICT</td>\n",
       "      <td>HAROONABAD TEHSIL</td>\n",
       "      <td>1295.0</td>\n",
       "      <td>382115</td>\n",
       "      <td>192278</td>\n",
       "      <td>189808</td>\n",
       "      <td>29</td>\n",
       "      <td>101.30</td>\n",
       "      <td>6.15</td>\n",
       "      <td>297343</td>\n",
       "      <td>1.33</td>\n",
       "      <td>142600</td>\n",
       "      <td>71345</td>\n",
       "      <td>71236</td>\n",
       "      <td>19</td>\n",
       "      <td>100.15</td>\n",
       "      <td>6.02</td>\n",
       "      <td>84424</td>\n",
       "      <td>2.79</td>\n",
       "    </tr>\n",
       "    <tr>\n",
       "      <th>4</th>\n",
       "      <td>PUNJAB</td>\n",
       "      <td>BAHAWALPUR DIVISION</td>\n",
       "      <td>BAHAWALNAGAR DISTRICT</td>\n",
       "      <td>MINCHINABAD TEHSIL</td>\n",
       "      <td>1818.0</td>\n",
       "      <td>452723</td>\n",
       "      <td>231506</td>\n",
       "      <td>221178</td>\n",
       "      <td>39</td>\n",
       "      <td>104.67</td>\n",
       "      <td>6.29</td>\n",
       "      <td>316593</td>\n",
       "      <td>1.90</td>\n",
       "      <td>72294</td>\n",
       "      <td>36694</td>\n",
       "      <td>35590</td>\n",
       "      <td>10</td>\n",
       "      <td>103.10</td>\n",
       "      <td>6.34</td>\n",
       "      <td>37668</td>\n",
       "      <td>3.48</td>\n",
       "    </tr>\n",
       "  </tbody>\n",
       "</table>\n",
       "</div>"
      ],
      "text/plain": [
       "  PROVINCE             DIVISION               DISTRICT         SUB DIVISION  \\\n",
       "0   PUNJAB  BAHAWALPUR DIVISION  BAHAWALNAGAR DISTRICT  BAHAWALNAGAR TEHSIL   \n",
       "1   PUNJAB  BAHAWALPUR DIVISION  BAHAWALNAGAR DISTRICT     CHISHTIAN TEHSIL   \n",
       "2   PUNJAB  BAHAWALPUR DIVISION  BAHAWALNAGAR DISTRICT    FORT ABBAS TEHSIL   \n",
       "3   PUNJAB  BAHAWALPUR DIVISION  BAHAWALNAGAR DISTRICT    HAROONABAD TEHSIL   \n",
       "4   PUNJAB  BAHAWALPUR DIVISION  BAHAWALNAGAR DISTRICT   MINCHINABAD TEHSIL   \n",
       "\n",
       "   AREA (sq.km)  ALL SEXES (RURAL)  MALE (RURAL)  FEMALE (RURAL)  \\\n",
       "0        1729.0             619550        316864          302644   \n",
       "1        1500.0             540342        273788          266500   \n",
       "2        2536.0             361240        182655          178541   \n",
       "3        1295.0             382115        192278          189808   \n",
       "4        1818.0             452723        231506          221178   \n",
       "\n",
       "   TRANSGENDER (RURAL)  SEX RATIO (RURAL)  AVG HOUSEHOLD SIZE (RURAL)  \\\n",
       "0                   42             104.70                        6.10   \n",
       "1                   54             102.73                        6.15   \n",
       "2                   44             102.30                        6.32   \n",
       "3                   29             101.30                        6.15   \n",
       "4                   39             104.67                        6.29   \n",
       "\n",
       "   POPULATION 1998 (RURAL)  ANNUAL GROWTH RATE (RURAL)  ALL SEXES (URBAN)  \\\n",
       "0                   407768                        2.22             193840   \n",
       "1                   395983                        1.65             149424   \n",
       "2                   250959                        1.93              61528   \n",
       "3                   297343                        1.33             142600   \n",
       "4                   316593                        1.90              72294   \n",
       "\n",
       "   MALE (URBAN)  FEMALE (URBAN)  TRANSGENDER (URBAN)  SEX RATIO (URBAN)  \\\n",
       "0         98391           95402                   47             103.13   \n",
       "1         75546           73851                   27             102.30   \n",
       "2         31360           30150                   18             104.01   \n",
       "3         71345           71236                   19             100.15   \n",
       "4         36694           35590                   10             103.10   \n",
       "\n",
       "   AVG HOUSEHOLD SIZE (URBAN)  POPULATION 1998 (URBAN)  \\\n",
       "0                        6.02                   133785   \n",
       "1                        6.01                   102287   \n",
       "2                        6.00                    34637   \n",
       "3                        6.02                    84424   \n",
       "4                        6.34                    37668   \n",
       "\n",
       "   ANNUAL GROWTH RATE (URBAN)  \n",
       "0                        1.97  \n",
       "1                        2.01  \n",
       "2                        3.06  \n",
       "3                        2.79  \n",
       "4                        3.48  "
      ]
     },
     "execution_count": 23,
     "metadata": {},
     "output_type": "execute_result"
    }
   ],
   "source": [
    "df.head()"
   ]
  },
  {
   "cell_type": "code",
   "execution_count": 24,
   "metadata": {},
   "outputs": [
    {
     "data": {
      "text/plain": [
       "DIVISION\n",
       "BAHAWALPUR DIVISION             575317.533333\n",
       "BANNU DIVISION                  167286.866667\n",
       "Badin Division                  282922.800000\n",
       "D.G.KHAN DIVISION               614505.142857\n",
       "DERA ISMAIL KHAN DIVISION       156810.200000\n",
       "FAISALABAD DIVISION             526807.764706\n",
       "GUJRANWALA DIVISION             510698.200000\n",
       "HAZARA DIVISION                 316744.800000\n",
       "Hyderabad Division              176117.800000\n",
       "KOHAT DIVISION                  179610.571429\n",
       "Kalat Division                   60748.777778\n",
       "Karachi Division                 38016.400000\n",
       "LAHORE DIVISION                 348967.882353\n",
       "Larkana Division                201900.333333\n",
       "MALAKAND DIVISION               253212.515152\n",
       "MARDAN DIVISION                 468955.714286\n",
       "MULTAN DIVISION                 632220.785714\n",
       "Makran Division                  42605.432432\n",
       "Mirpurkhas Division             189710.722222\n",
       "Naseerabad Division              70283.578947\n",
       "PESHAWAR DIVISION               317484.111111\n",
       "Quetta Division                  92976.894737\n",
       "RAWALPINDI DIVISION             266913.772727\n",
       "SAHIWAL DIVISION                818689.285714\n",
       "SARGODHA DIVISION               345524.588235\n",
       "Shaheed Benazirabad Division    255644.266667\n",
       "Sukkur Division                 204646.500000\n",
       "Zhob Division                    70591.842105\n",
       "Name: ALL SEXES (RURAL), dtype: float64"
      ]
     },
     "execution_count": 24,
     "metadata": {},
     "output_type": "execute_result"
    }
   ],
   "source": [
    "df.groupby('DIVISION')['ALL SEXES (RURAL)'].mean()  # population of rural area in each division"
   ]
  },
  {
   "cell_type": "code",
   "execution_count": 25,
   "metadata": {},
   "outputs": [
    {
     "data": {
      "text/plain": [
       "DISTRICT\n",
       "ABBOTTABAD DISTRICT      378963.250000\n",
       "ATTOCK DISTRICT          232578.333333\n",
       "AWARAN DISTRICT           21896.000000\n",
       "BADIN DISTRICT           282922.800000\n",
       "BAHAWALNAGAR DISTRICT    471194.000000\n",
       "                             ...      \n",
       "UPPER DIR DISTRICT       367256.833333\n",
       "VEHARI DISTRICT          798650.666667\n",
       "WASHUK DISTRICT           30775.400000\n",
       "ZHOB DISTRICT             52838.000000\n",
       "ZIARAT DISTRICT           78351.500000\n",
       "Name: ALL SEXES (RURAL), Length: 131, dtype: float64"
      ]
     },
     "execution_count": 25,
     "metadata": {},
     "output_type": "execute_result"
    }
   ],
   "source": [
    "df.groupby('DISTRICT')['ALL SEXES (RURAL)'].mean() # population of rural area in each district"
   ]
  },
  {
   "cell_type": "code",
   "execution_count": 26,
   "metadata": {},
   "outputs": [
    {
     "data": {
      "text/plain": [
       "DIVISION             DISTRICT               PROVINCE     SUB DIVISION          \n",
       "BAHAWALPUR DIVISION  BAHAWALNAGAR DISTRICT  PUNJAB       BAHAWALNAGAR TEHSIL       619550.0\n",
       "                                                         CHISHTIAN TEHSIL          540342.0\n",
       "                                                         FORT ABBAS TEHSIL         361240.0\n",
       "                                                         HAROONABAD TEHSIL         382115.0\n",
       "                                                         MINCHINABAD TEHSIL        452723.0\n",
       "                                                                                     ...   \n",
       "Zhob Division        ZHOB DISTRICT          BALOCHISTAN  ASHWAT SUB-TEHSIL          20768.0\n",
       "                                                         KASHATOO SUB-TEHSIL         5184.0\n",
       "                                                         QAMAR DIN KAREZ TEHSIL     13831.0\n",
       "                                                         SAMBAZA SUB-TEHSIL         17465.0\n",
       "                                                         ZHOB TEHSIL               206942.0\n",
       "Name: ALL SEXES (RURAL), Length: 528, dtype: float64"
      ]
     },
     "execution_count": 26,
     "metadata": {},
     "output_type": "execute_result"
    }
   ],
   "source": [
    "# groupby multiple columns\n",
    "df.groupby(['DIVISION', 'DISTRICT', 'PROVINCE','SUB DIVISION'])['ALL SEXES (RURAL)'].mean() #  average population of rural area in each division, district, province and sub division"
   ]
  },
  {
   "cell_type": "code",
   "execution_count": 27,
   "metadata": {},
   "outputs": [
    {
     "data": {
      "text/plain": [
       "PROVINCE\n",
       "BALOCHISTAN     67783.465649\n",
       "KPK            350603.380282\n",
       "KPK/FATA        99733.760870\n",
       "PUNJAB         480160.293706\n",
       "SINDH          167968.182482\n",
       "Name: ALL SEXES (RURAL), dtype: float64"
      ]
     },
     "execution_count": 27,
     "metadata": {},
     "output_type": "execute_result"
    }
   ],
   "source": [
    "df.groupby(['PROVINCE'])['ALL SEXES (RURAL)'].mean()"
   ]
  },
  {
   "cell_type": "code",
   "execution_count": 28,
   "metadata": {},
   "outputs": [
    {
     "data": {
      "text/plain": [
       "130034790"
      ]
     },
     "execution_count": 28,
     "metadata": {},
     "output_type": "execute_result"
    }
   ],
   "source": [
    "df['ALL SEXES (RURAL)'].sum() # total population of rural area of pakistan"
   ]
  },
  {
   "cell_type": "code",
   "execution_count": 29,
   "metadata": {},
   "outputs": [
    {
     "name": "stdout",
     "output_type": "stream",
     "text": [
      "Total population of rural area of pakistanin 2017 is: 130034790\n"
     ]
    }
   ],
   "source": [
    "print('Total population of rural area of pakistanin 2017 is:', df['ALL SEXES (RURAL)'].sum())"
   ]
  },
  {
   "cell_type": "code",
   "execution_count": 30,
   "metadata": {},
   "outputs": [
    {
     "name": "stdout",
     "output_type": "stream",
     "text": [
      "Total population of rural area of pakistanin 1998 is: 88401981\n"
     ]
    }
   ],
   "source": [
    "print('Total population of rural area of pakistanin 1998 is:', df['POPULATION 1998 (RURAL)'].sum())"
   ]
  },
  {
   "cell_type": "code",
   "execution_count": 31,
   "metadata": {},
   "outputs": [
    {
     "data": {
      "text/plain": [
       "41632809"
      ]
     },
     "execution_count": 31,
     "metadata": {},
     "output_type": "execute_result"
    }
   ],
   "source": [
    "# how much rural population has increased from 1998 to 2017\n",
    "pop_rural_1998 = df['POPULATION 1998 (RURAL)'].sum()\n",
    "pop_rural_2017 = df['ALL SEXES (RURAL)'].sum()\n",
    "\n",
    "pop_change = pop_rural_2017 - pop_rural_1998\n",
    "\n",
    "pop_change"
   ]
  },
  {
   "cell_type": "code",
   "execution_count": 32,
   "metadata": {},
   "outputs": [
    {
     "name": "stdout",
     "output_type": "stream",
     "text": [
      "tthe total rural population of pakistan have been increased by: 41632809\n"
     ]
    }
   ],
   "source": [
    "print('tthe total rural population of pakistan have been increased by:', pop_change)"
   ]
  },
  {
   "cell_type": "code",
   "execution_count": 36,
   "metadata": {},
   "outputs": [],
   "source": [
    "# how the finf the percentage increase in population\n",
    "pop_change_percent = (pop_rural_2017/pop_rural_1998)*100"
   ]
  },
  {
   "cell_type": "markdown",
   "metadata": {},
   "source": [
    "### Calculate the percent change in population"
   ]
  },
  {
   "cell_type": "code",
   "execution_count": 37,
   "metadata": {},
   "outputs": [
    {
     "data": {
      "text/plain": [
       "147.09488240993153"
      ]
     },
     "execution_count": 37,
     "metadata": {},
     "output_type": "execute_result"
    }
   ],
   "source": [
    "pop_change_percent"
   ]
  },
  {
   "cell_type": "code",
   "execution_count": 41,
   "metadata": {},
   "outputs": [
    {
     "name": "stdout",
     "output_type": "stream",
     "text": [
      "the total urban population of pakistan have been increased in 2017 as compared to 1998 is : 32059612\n"
     ]
    }
   ],
   "source": [
    "# population chang in urban area\n",
    "# how much rural population has increased from 1998 to 2017\n",
    "pop_urban_1998 = df['POPULATION 1998 (URBAN)'].sum()\n",
    "pop_urban_2017 = df['ALL SEXES (URBAN)'].sum()\n",
    "\n",
    "pop_change = pop_urban_2017 - pop_urban_1998\n",
    "\n",
    "pop_change\n",
    "\n",
    "print('the total urban population of pakistan have been increased in 2017 as compared to 1998 is :', pop_change)"
   ]
  },
  {
   "cell_type": "code",
   "execution_count": 42,
   "metadata": {},
   "outputs": [
    {
     "data": {
      "text/plain": [
       "Index(['PROVINCE', 'DIVISION', 'DISTRICT', 'SUB DIVISION', 'AREA (sq.km)',\n",
       "       'ALL SEXES (RURAL)', 'MALE (RURAL)', 'FEMALE (RURAL)',\n",
       "       'TRANSGENDER (RURAL)', 'SEX RATIO (RURAL)',\n",
       "       'AVG HOUSEHOLD SIZE (RURAL)', 'POPULATION 1998 (RURAL)',\n",
       "       'ANNUAL GROWTH RATE (RURAL)', 'ALL SEXES (URBAN)', 'MALE (URBAN)',\n",
       "       'FEMALE (URBAN)', 'TRANSGENDER (URBAN)', 'SEX RATIO (URBAN)',\n",
       "       'AVG HOUSEHOLD SIZE (URBAN)', 'POPULATION 1998 (URBAN)',\n",
       "       'ANNUAL GROWTH RATE (URBAN)'],\n",
       "      dtype='object')"
      ]
     },
     "execution_count": 42,
     "metadata": {},
     "output_type": "execute_result"
    }
   ],
   "source": [
    "df.columns"
   ]
  },
  {
   "cell_type": "code",
   "execution_count": 43,
   "metadata": {},
   "outputs": [],
   "source": [
    " # how to combine 3 colum in one colum ? make a seperate data of every thing based on sex ( male ,female ,transgander)\n",
    " \n",
    "\n",
    "# assuming df is your DataFrame and 'col1', 'col2', 'col3' are the columns you want to combine\n",
    "df['combined'] = df['MALE (RURAL)'].astype(str) + df['FEMALE (RURAL)'].astype(str) + df['TRANSGENDER (RURAL)'].astype(str)"
   ]
  }
 ],
 "metadata": {
  "kernelspec": {
   "display_name": "kalim_env",
   "language": "python",
   "name": "python3"
  },
  "language_info": {
   "codemirror_mode": {
    "name": "ipython",
    "version": 3
   },
   "file_extension": ".py",
   "mimetype": "text/x-python",
   "name": "python",
   "nbconvert_exporter": "python",
   "pygments_lexer": "ipython3",
   "version": "3.12.2"
  }
 },
 "nbformat": 4,
 "nbformat_minor": 2
}
